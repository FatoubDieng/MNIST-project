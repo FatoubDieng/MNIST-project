{
 "cells": [
  {
   "cell_type": "code",
   "execution_count": 1,
   "id": "57ad77e9",
   "metadata": {},
   "outputs": [],
   "source": [
    "import numpy as np\n",
    "import matplotlib.pyplot as plt\n",
    "from sklearn.datasets import load_digits\n",
    "from sklearn.linear_model import LogisticRegression\n",
    "from sklearn.metrics import classification_report, confusion_matrix\n",
    "import seaborn as sns"
   ]
  },
  {
   "cell_type": "code",
   "execution_count": null,
   "id": "74eb9824",
   "metadata": {},
   "outputs": [],
   "source": [
    "digits = load_digits()\n",
    "X, y = digits.data, digits.target\n",
    "# Affichage de quelques images\n",
    "fig, axes = plt.subplots(2, 5, figsize=(10, 5))\n",
    "for i, ax in enumerate(axes.flat):\n",
    "    ax.imshow(digits.images[i], cmap='gray')\n",
    "    ax.set_title(f\"Étiquette : {digits.target[i]}\")\n",
    "    ax.axis(\"off\")\n",
    "plt.suptitle(\"Exemples d’images MNIST\")\n",
    "plt.tight_layout()\n",
    "plt.show()"
   ]
  },
  {
   "cell_type": "code",
   "execution_count": null,
   "id": "f7a2a841",
   "metadata": {},
   "outputs": [],
   "source": [
    "model = LogisticRegression(max_iter=2000)\n",
    "model.fit(X, y)\n",
    "\n",
    "# Prédiction et évaluation\n",
    "y_pred = model.predict(X)\n",
    "print(\"Rapport de classification :\\n\")\n",
    "print(classification_report(y, y_pred))\n",
    "\n",
    "# Matrice de confusion\n",
    "conf = confusion_matrix(y, y_pred)\n",
    "plt.figure(figsize=(8, 6))\n",
    "sns.heatmap(conf, annot=True, fmt='d', cmap='Blues')\n",
    "plt.title(\"Matrice de confusion\")\n",
    "plt.xlabel(\"Prédit\")\n",
    "plt.ylabel(\"Vérité\")\n",
    "plt.show()\n",
    "\n",
    "# Prédiction interactive d’un chiffre\n",
    "index = 25  \n",
    "plt.imshow(X[index].reshape(8, 8), cmap='gray')\n",
    "plt.title(f\"Image à prédire (label réel : {y[index]})\")\n",
    "plt.axis(\"off\")\n",
    "plt.show()\n",
    "\n",
    "probas = model.predict_proba([X[index]])[0]\n",
    "prediction = np.argmax(probas)\n",
    "confidence = probas[prediction] * 100"
   ]
  }
 ],
 "metadata": {
  "kernelspec": {
   "display_name": "Python 3",
   "language": "python",
   "name": "python3"
  },
  "language_info": {
   "codemirror_mode": {
    "name": "ipython",
    "version": 3
   },
   "file_extension": ".py",
   "mimetype": "text/x-python",
   "name": "python",
   "nbconvert_exporter": "python",
   "pygments_lexer": "ipython3",
   "version": "3.13.1"
  }
 },
 "nbformat": 4,
 "nbformat_minor": 5
}
